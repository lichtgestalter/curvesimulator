{
 "cells": [
  {
   "metadata": {
    "ExecuteTime": {
     "end_time": "2025-02-19T21:15:29.191415Z",
     "start_time": "2025-02-19T21:15:29.189087Z"
    }
   },
   "cell_type": "code",
   "source": "import lightkurve as lk",
   "id": "5d4e34dcc0daee59",
   "outputs": [],
   "execution_count": 8
  },
  {
   "metadata": {},
   "cell_type": "code",
   "source": [
    "# search_result = lk.search_lightcurve('TIC349972412', cadence='long')\n",
    "# search_result = lk.search_lightcurve('TIC349972412', author='TESS-SPOC', cadence='long')\n",
    "search_result = lk.search_lightcurve('TIC349972412', author='QLP', cadence='long')\n",
    "# search_result = lk.search_lightcurve('TOI-4504', author='Tess', cadence='long')\n",
    "lc_collection = search_result.download_all()\n",
    "# lc_collection.plot();\n",
    "search_result"
   ],
   "id": "7137e4719c5d80b9",
   "outputs": [],
   "execution_count": null
  },
  {
   "metadata": {},
   "cell_type": "code",
   "source": [
    "from lightkurve import TessLightCurve\n",
    "lc = TessLightCurve.read('C:/Users/ulisc/.lightkurve/cache/mastDownload/HLSP/hlsp_tess-spoc_tess_phot_0000000349972412-s0069_tess_v1_tp/hlsp_tess-spoc_tess_phot_0000000349972412-s0069_tess_v1_lc.fits')\n",
    "lc.plot()  # Visualize PDCSAP_FLUX"
   ],
   "id": "a29295045e09269b",
   "outputs": [],
   "execution_count": null
  },
  {
   "metadata": {},
   "cell_type": "code",
   "source": [
    "import os\n",
    "current_dir = os.getcwd()  # What is the program's current directory?\n",
    "current_dir"
   ],
   "id": "cd7e5734a1ceb9ec",
   "outputs": [],
   "execution_count": null
  },
  {
   "metadata": {
    "ExecuteTime": {
     "end_time": "2025-02-19T21:16:20.342943Z",
     "start_time": "2025-02-19T21:16:20.244616Z"
    }
   },
   "cell_type": "code",
   "source": [
    "from lightkurve import TessLightCurve\n",
    "lc = TessLightCurve.read('../research/star_systems/TOI-4504/lightkurve/27/27.fits')\n",
    "lc.plot()  # Visualize PDCSAP_FLUXlc = TessLightCurve.read('../research/star_systems/TOI-4504/lightkurve/27/27.fits')\n",
    "lc = TessLightCurve.read('../research/star_systems/TOI-4504/lightkurve/28/28.fits')\n",
    "lc.plot()  # Visualize PDCSAP_FLUX"
   ],
   "id": "c77998f60cc30fbb",
   "outputs": [
    {
     "data": {
      "text/plain": [
       "<Axes: xlabel='Time - 2457000 [BTJD days]', ylabel='Flux [$\\\\mathrm{e^{-}\\\\,s^{-1}}$]'>"
      ]
     },
     "execution_count": 10,
     "metadata": {},
     "output_type": "execute_result"
    }
   ],
   "execution_count": 10
  }
 ],
 "metadata": {
  "kernelspec": {
   "display_name": "Python 3",
   "language": "python",
   "name": "python3"
  },
  "language_info": {
   "codemirror_mode": {
    "name": "ipython",
    "version": 2
   },
   "file_extension": ".py",
   "mimetype": "text/x-python",
   "name": "python",
   "nbconvert_exporter": "python",
   "pygments_lexer": "ipython2",
   "version": "2.7.6"
  }
 },
 "nbformat": 4,
 "nbformat_minor": 5
}
