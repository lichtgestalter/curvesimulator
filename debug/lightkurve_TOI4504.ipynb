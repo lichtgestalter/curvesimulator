{
 "cells": [
  {
   "metadata": {
    "ExecuteTime": {
     "end_time": "2025-02-16T23:23:13.596079Z",
     "start_time": "2025-02-16T23:23:13.593827Z"
    }
   },
   "cell_type": "code",
   "source": "import lightkurve as lk",
   "id": "5d4e34dcc0daee59",
   "outputs": [],
   "execution_count": 6
  },
  {
   "metadata": {
    "ExecuteTime": {
     "end_time": "2025-02-16T23:23:18.594857Z",
     "start_time": "2025-02-16T23:23:16.588370Z"
    }
   },
   "cell_type": "code",
   "source": [
    "search_result = lk.search_lightcurve('TIC349972412', cadence='long')\n",
    "# search_result = lk.search_lightcurve('TIC349972412', author='Tess', cadence='long')\n",
    "# search_result = lk.search_lightcurve('TOI-4504', author='Tess', cadence='long')\n",
    "lc_collection = search_result.download_all()\n",
    "lc_collection.plot();"
   ],
   "id": "7137e4719c5d80b9",
   "outputs": [
    {
     "name": "stderr",
     "output_type": "stream",
     "text": [
      "Warning: 38% (490/1288) of the cadences will be ignored due to the quality mask (quality_bitmask=175).\n"
     ]
    },
    {
     "ename": "LightkurveError",
     "evalue": "Not recognized as a supported data product:\nC:\\Users\\ulisc\\.lightkurve\\cache\\mastDownload\\HLSP\\hlsp_t16_tess_ffi_s0001-cam4-ccd3-05289275864525400704_tess_v01\\hlsp_t16_tess_ffi_s0001-cam4-ccd3-05289275864525400704_tess_v01_llc.fits\nThis file may be corrupt due to an interrupted download. Please remove it from your disk and try again.",
     "output_type": "error",
     "traceback": [
      "\u001B[1;31m---------------------------------------------------------------------------\u001B[0m",
      "\u001B[1;31mLightkurveError\u001B[0m                           Traceback (most recent call last)",
      "Cell \u001B[1;32mIn[7], line 4\u001B[0m\n\u001B[0;32m      1\u001B[0m search_result \u001B[38;5;241m=\u001B[39m lk\u001B[38;5;241m.\u001B[39msearch_lightcurve(\u001B[38;5;124m'\u001B[39m\u001B[38;5;124mTIC349972412\u001B[39m\u001B[38;5;124m'\u001B[39m, cadence\u001B[38;5;241m=\u001B[39m\u001B[38;5;124m'\u001B[39m\u001B[38;5;124mlong\u001B[39m\u001B[38;5;124m'\u001B[39m)\n\u001B[0;32m      2\u001B[0m \u001B[38;5;66;03m# search_result = lk.search_lightcurve('TIC349972412', author='Tess', cadence='long')\u001B[39;00m\n\u001B[0;32m      3\u001B[0m \u001B[38;5;66;03m# search_result = lk.search_lightcurve('TOI-4504', author='Tess', cadence='long')\u001B[39;00m\n\u001B[1;32m----> 4\u001B[0m lc_collection \u001B[38;5;241m=\u001B[39m \u001B[43msearch_result\u001B[49m\u001B[38;5;241;43m.\u001B[39;49m\u001B[43mdownload_all\u001B[49m\u001B[43m(\u001B[49m\u001B[43m)\u001B[49m\n\u001B[0;32m      5\u001B[0m lc_collection\u001B[38;5;241m.\u001B[39mplot();\n",
      "File \u001B[1;32m~\\AppData\\Local\\Programs\\Python\\Python313\\Lib\\site-packages\\lightkurve\\utils.py:566\u001B[0m, in \u001B[0;36msuppress_stdout.<locals>.wrapper\u001B[1;34m(*args, **kwargs)\u001B[0m\n\u001B[0;32m    564\u001B[0m sys\u001B[38;5;241m.\u001B[39mstdout \u001B[38;5;241m=\u001B[39m devnull\n\u001B[0;32m    565\u001B[0m \u001B[38;5;28;01mtry\u001B[39;00m:\n\u001B[1;32m--> 566\u001B[0m     \u001B[38;5;28;01mreturn\u001B[39;00m \u001B[43mf\u001B[49m\u001B[43m(\u001B[49m\u001B[38;5;241;43m*\u001B[39;49m\u001B[43margs\u001B[49m\u001B[43m,\u001B[49m\u001B[43m \u001B[49m\u001B[38;5;241;43m*\u001B[39;49m\u001B[38;5;241;43m*\u001B[39;49m\u001B[43mkwargs\u001B[49m\u001B[43m)\u001B[49m\n\u001B[0;32m    567\u001B[0m \u001B[38;5;66;03m# restore to default\u001B[39;00m\n\u001B[0;32m    568\u001B[0m \u001B[38;5;28;01mfinally\u001B[39;00m:\n\u001B[0;32m    569\u001B[0m     sys\u001B[38;5;241m.\u001B[39mstdout \u001B[38;5;241m=\u001B[39m old_out\n",
      "File \u001B[1;32m~\\AppData\\Local\\Programs\\Python\\Python313\\Lib\\site-packages\\lightkurve\\search.py:504\u001B[0m, in \u001B[0;36mSearchResult.download_all\u001B[1;34m(self, quality_bitmask, download_dir, cutout_size, **kwargs)\u001B[0m\n\u001B[0;32m    501\u001B[0m products \u001B[38;5;241m=\u001B[39m []\n\u001B[0;32m    502\u001B[0m \u001B[38;5;28;01mfor\u001B[39;00m idx \u001B[38;5;129;01min\u001B[39;00m \u001B[38;5;28mrange\u001B[39m(\u001B[38;5;28mlen\u001B[39m(\u001B[38;5;28mself\u001B[39m\u001B[38;5;241m.\u001B[39mtable)):\n\u001B[0;32m    503\u001B[0m     products\u001B[38;5;241m.\u001B[39mappend(\n\u001B[1;32m--> 504\u001B[0m         \u001B[38;5;28;43mself\u001B[39;49m\u001B[38;5;241;43m.\u001B[39;49m\u001B[43m_download_one\u001B[49m\u001B[43m(\u001B[49m\n\u001B[0;32m    505\u001B[0m \u001B[43m            \u001B[49m\u001B[43mtable\u001B[49m\u001B[38;5;241;43m=\u001B[39;49m\u001B[38;5;28;43mself\u001B[39;49m\u001B[38;5;241;43m.\u001B[39;49m\u001B[43mtable\u001B[49m\u001B[43m[\u001B[49m\u001B[43midx\u001B[49m\u001B[43m \u001B[49m\u001B[43m:\u001B[49m\u001B[43m \u001B[49m\u001B[43midx\u001B[49m\u001B[43m \u001B[49m\u001B[38;5;241;43m+\u001B[39;49m\u001B[43m \u001B[49m\u001B[38;5;241;43m1\u001B[39;49m\u001B[43m]\u001B[49m\u001B[43m,\u001B[49m\n\u001B[0;32m    506\u001B[0m \u001B[43m            \u001B[49m\u001B[43mquality_bitmask\u001B[49m\u001B[38;5;241;43m=\u001B[39;49m\u001B[43mquality_bitmask\u001B[49m\u001B[43m,\u001B[49m\n\u001B[0;32m    507\u001B[0m \u001B[43m            \u001B[49m\u001B[43mdownload_dir\u001B[49m\u001B[38;5;241;43m=\u001B[39;49m\u001B[43mdownload_dir\u001B[49m\u001B[43m,\u001B[49m\n\u001B[0;32m    508\u001B[0m \u001B[43m            \u001B[49m\u001B[43mcutout_size\u001B[49m\u001B[38;5;241;43m=\u001B[39;49m\u001B[43mcutout_size\u001B[49m\u001B[43m,\u001B[49m\n\u001B[0;32m    509\u001B[0m \u001B[43m            \u001B[49m\u001B[38;5;241;43m*\u001B[39;49m\u001B[38;5;241;43m*\u001B[39;49m\u001B[43mkwargs\u001B[49m\u001B[43m,\u001B[49m\n\u001B[0;32m    510\u001B[0m \u001B[43m        \u001B[49m\u001B[43m)\u001B[49m\n\u001B[0;32m    511\u001B[0m     )\n\u001B[0;32m    512\u001B[0m \u001B[38;5;28;01mif\u001B[39;00m \u001B[38;5;28misinstance\u001B[39m(products[\u001B[38;5;241m0\u001B[39m], TargetPixelFile):\n\u001B[0;32m    513\u001B[0m     \u001B[38;5;28;01mreturn\u001B[39;00m TargetPixelFileCollection(products)\n",
      "File \u001B[1;32m~\\AppData\\Local\\Programs\\Python\\Python313\\Lib\\site-packages\\lightkurve\\search.py:364\u001B[0m, in \u001B[0;36mSearchResult._download_one\u001B[1;34m(self, table, quality_bitmask, download_dir, cutout_size, **kwargs)\u001B[0m\n\u001B[0;32m    362\u001B[0m     path \u001B[38;5;241m=\u001B[39m download_response[\u001B[38;5;124m\"\u001B[39m\u001B[38;5;124mLocal Path\u001B[39m\u001B[38;5;124m\"\u001B[39m]\n\u001B[0;32m    363\u001B[0m     log\u001B[38;5;241m.\u001B[39mdebug(\u001B[38;5;124m\"\u001B[39m\u001B[38;5;124mFinished downloading.\u001B[39m\u001B[38;5;124m\"\u001B[39m)\n\u001B[1;32m--> 364\u001B[0m \u001B[38;5;28;01mreturn\u001B[39;00m \u001B[43mread\u001B[49m\u001B[43m(\u001B[49m\u001B[43mpath\u001B[49m\u001B[43m,\u001B[49m\u001B[43m \u001B[49m\u001B[43mquality_bitmask\u001B[49m\u001B[38;5;241;43m=\u001B[39;49m\u001B[43mquality_bitmask\u001B[49m\u001B[43m,\u001B[49m\u001B[43m \u001B[49m\u001B[38;5;241;43m*\u001B[39;49m\u001B[38;5;241;43m*\u001B[39;49m\u001B[43mkwargs\u001B[49m\u001B[43m)\u001B[49m\n",
      "File \u001B[1;32m~\\AppData\\Local\\Programs\\Python\\Python313\\Lib\\site-packages\\lightkurve\\io\\read.py:158\u001B[0m, in \u001B[0;36mread\u001B[1;34m(path_or_url, **kwargs)\u001B[0m\n\u001B[0;32m    150\u001B[0m         \u001B[38;5;28;01mraise\u001B[39;00m LightkurveError(\n\u001B[0;32m    151\u001B[0m             \u001B[38;5;124mf\u001B[39m\u001B[38;5;124m\"\u001B[39m\u001B[38;5;124mUnexpected error in reading data product: \u001B[39m\u001B[38;5;124m'\u001B[39m\u001B[38;5;132;01m{\u001B[39;00m\u001B[38;5;28mtype\u001B[39m(exc2)\u001B[38;5;241m.\u001B[39m\u001B[38;5;18m__name__\u001B[39m\u001B[38;5;132;01m}\u001B[39;00m\u001B[38;5;124m: \u001B[39m\u001B[38;5;132;01m{\u001B[39;00mexc2\u001B[38;5;132;01m}\u001B[39;00m\u001B[38;5;124m'\u001B[39m\u001B[38;5;130;01m\\n\u001B[39;00m\u001B[38;5;124m\"\u001B[39m\n\u001B[0;32m    152\u001B[0m             \u001B[38;5;124mf\u001B[39m\u001B[38;5;124m\"\u001B[39m\u001B[38;5;132;01m{\u001B[39;00mpath_or_url\u001B[38;5;132;01m}\u001B[39;00m\u001B[38;5;130;01m\\n\u001B[39;00m\u001B[38;5;124m\"\u001B[39m\n\u001B[0;32m    153\u001B[0m             \u001B[38;5;124m\"\u001B[39m\u001B[38;5;124mThis file may be corrupt due to an interrupted download. \u001B[39m\u001B[38;5;124m\"\u001B[39m\n\u001B[0;32m    154\u001B[0m             \u001B[38;5;124m\"\u001B[39m\u001B[38;5;124mPlease remove it from your disk and try again.\u001B[39m\u001B[38;5;124m\"\u001B[39m\n\u001B[0;32m    155\u001B[0m         ) \u001B[38;5;28;01mfrom\u001B[39;00m\u001B[38;5;250m \u001B[39m\u001B[38;5;21;01mexc2\u001B[39;00m\n\u001B[0;32m    156\u001B[0m \u001B[38;5;28;01melse\u001B[39;00m:\n\u001B[0;32m    157\u001B[0m     \u001B[38;5;66;03m# if these keywords don't exist, raise `ValueError`\u001B[39;00m\n\u001B[1;32m--> 158\u001B[0m     \u001B[38;5;28;01mraise\u001B[39;00m LightkurveError(\n\u001B[0;32m    159\u001B[0m         \u001B[38;5;124m\"\u001B[39m\u001B[38;5;124mNot recognized as a supported data product:\u001B[39m\u001B[38;5;130;01m\\n\u001B[39;00m\u001B[38;5;124m\"\u001B[39m\n\u001B[0;32m    160\u001B[0m         \u001B[38;5;124mf\u001B[39m\u001B[38;5;124m\"\u001B[39m\u001B[38;5;132;01m{\u001B[39;00mpath_or_url\u001B[38;5;132;01m}\u001B[39;00m\u001B[38;5;130;01m\\n\u001B[39;00m\u001B[38;5;124m\"\u001B[39m\n\u001B[0;32m    161\u001B[0m         \u001B[38;5;124m\"\u001B[39m\u001B[38;5;124mThis file may be corrupt due to an interrupted download. \u001B[39m\u001B[38;5;124m\"\u001B[39m\n\u001B[0;32m    162\u001B[0m         \u001B[38;5;124m\"\u001B[39m\u001B[38;5;124mPlease remove it from your disk and try again.\u001B[39m\u001B[38;5;124m\"\u001B[39m\n\u001B[0;32m    163\u001B[0m     )\n",
      "\u001B[1;31mLightkurveError\u001B[0m: Not recognized as a supported data product:\nC:\\Users\\ulisc\\.lightkurve\\cache\\mastDownload\\HLSP\\hlsp_t16_tess_ffi_s0001-cam4-ccd3-05289275864525400704_tess_v01\\hlsp_t16_tess_ffi_s0001-cam4-ccd3-05289275864525400704_tess_v01_llc.fits\nThis file may be corrupt due to an interrupted download. Please remove it from your disk and try again."
     ]
    }
   ],
   "execution_count": 7
  }
 ],
 "metadata": {
  "kernelspec": {
   "display_name": "Python 3",
   "language": "python",
   "name": "python3"
  },
  "language_info": {
   "codemirror_mode": {
    "name": "ipython",
    "version": 2
   },
   "file_extension": ".py",
   "mimetype": "text/x-python",
   "name": "python",
   "nbconvert_exporter": "python",
   "pygments_lexer": "ipython2",
   "version": "2.7.6"
  }
 },
 "nbformat": 4,
 "nbformat_minor": 5
}
