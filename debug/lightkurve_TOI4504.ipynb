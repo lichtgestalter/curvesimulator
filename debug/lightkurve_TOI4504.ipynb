{
 "cells": [
  {
   "cell_type": "code",
   "id": "5d4e34dcc0daee59",
   "metadata": {},
   "source": [
    "import lightkurve as lk"
   ],
   "outputs": [],
   "execution_count": null
  },
  {
   "cell_type": "code",
   "id": "7137e4719c5d80b9",
   "metadata": {},
   "source": [
    "# search_result = lk.search_lightcurve('TIC349972412', cadence='long')\n",
    "# search_result = lk.search_lightcurve('TIC349972412', author='TESS-SPOC', cadence='long')\n",
    "search_result = lk.search_lightcurve('TIC349972412', author='QLP', cadence='long')\n",
    "# search_result = lk.search_lightcurve('TOI-4504', author='Tess', cadence='long')\n",
    "lc_collection = search_result.download_all()\n",
    "# lc_collection.plot();\n",
    "search_result"
   ],
   "outputs": [],
   "execution_count": null
  },
  {
   "cell_type": "code",
   "id": "a29295045e09269b",
   "metadata": {},
   "source": [
    "from lightkurve import TessLightCurve\n",
    "lc = TessLightCurve.read('C:/Users/ulisc/.lightkurve/cache/mastDownload/HLSP/hlsp_tess-spoc_tess_phot_0000000349972412-s0069_tess_v1_tp/hlsp_tess-spoc_tess_phot_0000000349972412-s0069_tess_v1_lc.fits')\n",
    "lc.plot()  # Visualize PDCSAP_FLUX"
   ],
   "outputs": [],
   "execution_count": null
  },
  {
   "cell_type": "code",
   "id": "cd7e5734a1ceb9ec",
   "metadata": {
    "ExecuteTime": {
     "end_time": "2025-02-19T21:29:54.554108Z",
     "start_time": "2025-02-19T21:29:54.499118Z"
    }
   },
   "source": [
    "from lightkurve import TessLightCurve\n",
    "lc = TessLightCurve.read('../research/star_systems/TOI-4504/lightkurve/27/27.fits')\n",
    "lc.plot()"
   ],
   "outputs": [
    {
     "data": {
      "text/plain": [
       "<Axes: xlabel='Time - 2457000 [BTJD days]', ylabel='Flux [$\\\\mathrm{e^{-}\\\\,s^{-1}}$]'>"
      ]
     },
     "execution_count": 16,
     "metadata": {},
     "output_type": "execute_result"
    }
   ],
   "execution_count": 16
  },
  {
   "cell_type": "code",
   "id": "c77998f60cc30fbb",
   "metadata": {},
   "source": [
    "from lightkurve import TessLightCurve\n",
    "sectors = [\"27\", \"28\", \"29\", \"30\", \"31\", \"32\", \"33\", \"34\", \"35\", \"36\", \"37\", \"38\", \"61\", \"62\", \"63\", \"64\", \"65\", \"67\", \"68\", \"69\"]\n",
    "for sector in sectors:\n",
    "    print(sector)\n",
    "    file = f\"../research/star_systems/TOI-4504/lightkurve/{sector}/{sector}.fits\"\n",
    "    lc = TessLightCurve.read(file)\n",
    "    lc.plot()"
   ],
   "outputs": [],
   "execution_count": null
  },
  {
   "cell_type": "code",
   "id": "2bc16f61-231f-4da3-af23-69ea6e2e3a85",
   "metadata": {},
   "source": [
    "from lightkurve import TessLightCurve\n",
    "\n",
    "sectors = [\"27\"]\n",
    "for sector in sectors:\n",
    "    # print(sector)\n",
    "    file = f\"../research/star_systems/TOI-4504/lightkurve/{sector}/{sector}.fits\"\n",
    "    lc = TessLightCurve.read(file)\n",
    "    lc.plot()"
   ],
   "outputs": [],
   "execution_count": null
  }
 ],
 "metadata": {
  "kernelspec": {
   "display_name": "Python 3 (ipykernel)",
   "language": "python",
   "name": "python3"
  },
  "language_info": {
   "codemirror_mode": {
    "name": "ipython",
    "version": 3
   },
   "file_extension": ".py",
   "mimetype": "text/x-python",
   "name": "python",
   "nbconvert_exporter": "python",
   "pygments_lexer": "ipython3",
   "version": "3.13.1"
  }
 },
 "nbformat": 4,
 "nbformat_minor": 5
}
