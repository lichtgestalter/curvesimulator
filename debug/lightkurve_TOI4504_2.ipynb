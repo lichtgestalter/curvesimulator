{
 "cells": [
  {
   "metadata": {
    "ExecuteTime": {
     "end_time": "2025-03-27T19:09:11.488922Z",
     "start_time": "2025-03-27T19:09:11.164510Z"
    }
   },
   "cell_type": "code",
   "source": [
    "from lightkurve import TessLightCurve\n",
    "import numpy as np\n",
    "%matplotlib inline\n",
    "\n",
    "lc88 = TessLightCurve.read('TIC349972412_sector_10_88.fits')\n",
    "# lc = TessLightCurve.read('TIC349972412_sector_0_31.fits')\n",
    "lc88.flux = np.mean(lc88.flux, axis=(1, 2))  # Average the flux values across the additional dimensions\n",
    "lc88 = lc88.remove_outliers()\n",
    "lc88 = lc88.flatten()\n",
    "lc88.plot()"
   ],
   "id": "9f105db2e24c3643",
   "outputs": [
    {
     "ename": "ValueError",
     "evalue": "operands could not be broadcast together with shapes (19429,11,11) (19429,) ",
     "output_type": "error",
     "traceback": [
      "\u001B[1;31m---------------------------------------------------------------------------\u001B[0m",
      "\u001B[1;31mValueError\u001B[0m                                Traceback (most recent call last)",
      "Cell \u001B[1;32mIn[12], line 9\u001B[0m\n\u001B[0;32m      7\u001B[0m lc88\u001B[38;5;241m.\u001B[39mflux \u001B[38;5;241m=\u001B[39m np\u001B[38;5;241m.\u001B[39mmean(lc88\u001B[38;5;241m.\u001B[39mflux, axis\u001B[38;5;241m=\u001B[39m(\u001B[38;5;241m1\u001B[39m, \u001B[38;5;241m2\u001B[39m))  \u001B[38;5;66;03m# Average the flux values across the additional dimensions\u001B[39;00m\n\u001B[0;32m      8\u001B[0m lc88 \u001B[38;5;241m=\u001B[39m lc88\u001B[38;5;241m.\u001B[39mremove_outliers()\n\u001B[1;32m----> 9\u001B[0m lc88 \u001B[38;5;241m=\u001B[39m \u001B[43mlc88\u001B[49m\u001B[38;5;241;43m.\u001B[39;49m\u001B[43mflatten\u001B[49m\u001B[43m(\u001B[49m\u001B[43m)\u001B[49m\n\u001B[0;32m     10\u001B[0m lc88\u001B[38;5;241m.\u001B[39mplot()\n",
      "File \u001B[1;32m~\\AppData\\Local\\Programs\\Python\\Python313\\Lib\\site-packages\\lightkurve\\lightcurve.py:949\u001B[0m, in \u001B[0;36mLightCurve.flatten\u001B[1;34m(self, window_length, polyorder, return_trend, break_tolerance, niters, sigma, mask, **kwargs)\u001B[0m\n\u001B[0;32m    947\u001B[0m     warnings\u001B[38;5;241m.\u001B[39msimplefilter(\u001B[38;5;124m\"\u001B[39m\u001B[38;5;124mignore\u001B[39m\u001B[38;5;124m\"\u001B[39m, \u001B[38;5;167;01mRuntimeWarning\u001B[39;00m)\n\u001B[0;32m    948\u001B[0m     flatten_lc\u001B[38;5;241m.\u001B[39mflux \u001B[38;5;241m=\u001B[39m flatten_lc\u001B[38;5;241m.\u001B[39mflux \u001B[38;5;241m/\u001B[39m trend_signal\n\u001B[1;32m--> 949\u001B[0m     flatten_lc\u001B[38;5;241m.\u001B[39mflux_err \u001B[38;5;241m=\u001B[39m \u001B[43mflatten_lc\u001B[49m\u001B[38;5;241;43m.\u001B[39;49m\u001B[43mflux_err\u001B[49m\u001B[43m \u001B[49m\u001B[38;5;241;43m/\u001B[39;49m\u001B[43m \u001B[49m\u001B[43mtrend_signal\u001B[49m\n\u001B[0;32m    951\u001B[0m flatten_lc\u001B[38;5;241m.\u001B[39mmeta[\u001B[38;5;124m\"\u001B[39m\u001B[38;5;124mNORMALIZED\u001B[39m\u001B[38;5;124m\"\u001B[39m] \u001B[38;5;241m=\u001B[39m \u001B[38;5;28;01mTrue\u001B[39;00m\n\u001B[0;32m    953\u001B[0m \u001B[38;5;28;01mif\u001B[39;00m return_trend:\n",
      "File \u001B[1;32m~\\AppData\\Local\\Programs\\Python\\Python313\\Lib\\site-packages\\astropy\\units\\quantity.py:1230\u001B[0m, in \u001B[0;36mQuantity.__truediv__\u001B[1;34m(self, other)\u001B[0m\n\u001B[0;32m   1227\u001B[0m     \u001B[38;5;28;01mexcept\u001B[39;00m UnitsError:  \u001B[38;5;66;03m# let other try to deal with it\u001B[39;00m\n\u001B[0;32m   1228\u001B[0m         \u001B[38;5;28;01mreturn\u001B[39;00m \u001B[38;5;28mNotImplemented\u001B[39m\n\u001B[1;32m-> 1230\u001B[0m \u001B[38;5;28;01mreturn\u001B[39;00m \u001B[38;5;28;43msuper\u001B[39;49m\u001B[43m(\u001B[49m\u001B[43m)\u001B[49m\u001B[38;5;241;43m.\u001B[39;49m\u001B[38;5;21;43m__truediv__\u001B[39;49m\u001B[43m(\u001B[49m\u001B[43mother\u001B[49m\u001B[43m)\u001B[49m\n",
      "File \u001B[1;32m~\\AppData\\Local\\Programs\\Python\\Python313\\Lib\\site-packages\\astropy\\units\\quantity.py:683\u001B[0m, in \u001B[0;36mQuantity.__array_ufunc__\u001B[1;34m(self, function, method, *inputs, **kwargs)\u001B[0m\n\u001B[0;32m    681\u001B[0m     \u001B[38;5;28;01mreturn\u001B[39;00m \u001B[38;5;28mNotImplemented\u001B[39m\n\u001B[0;32m    682\u001B[0m \u001B[38;5;28;01melse\u001B[39;00m:\n\u001B[1;32m--> 683\u001B[0m     \u001B[38;5;28;01mraise\u001B[39;00m e\n",
      "File \u001B[1;32m~\\AppData\\Local\\Programs\\Python\\Python313\\Lib\\site-packages\\astropy\\units\\quantity.py:658\u001B[0m, in \u001B[0;36mQuantity.__array_ufunc__\u001B[1;34m(self, function, method, *inputs, **kwargs)\u001B[0m\n\u001B[0;32m    655\u001B[0m     arrays\u001B[38;5;241m.\u001B[39mappend(converter(input_) \u001B[38;5;28;01mif\u001B[39;00m converter \u001B[38;5;28;01melse\u001B[39;00m input_)\n\u001B[0;32m    657\u001B[0m \u001B[38;5;66;03m# Call our superclass's __array_ufunc__\u001B[39;00m\n\u001B[1;32m--> 658\u001B[0m result \u001B[38;5;241m=\u001B[39m \u001B[38;5;28;43msuper\u001B[39;49m\u001B[43m(\u001B[49m\u001B[43m)\u001B[49m\u001B[38;5;241;43m.\u001B[39;49m\u001B[43m__array_ufunc__\u001B[49m\u001B[43m(\u001B[49m\u001B[43mfunction\u001B[49m\u001B[43m,\u001B[49m\u001B[43m \u001B[49m\u001B[43mmethod\u001B[49m\u001B[43m,\u001B[49m\u001B[43m \u001B[49m\u001B[38;5;241;43m*\u001B[39;49m\u001B[43marrays\u001B[49m\u001B[43m,\u001B[49m\u001B[43m \u001B[49m\u001B[38;5;241;43m*\u001B[39;49m\u001B[38;5;241;43m*\u001B[39;49m\u001B[43mkwargs\u001B[49m\u001B[43m)\u001B[49m\n\u001B[0;32m    659\u001B[0m \u001B[38;5;66;03m# If unit is None, a plain array is expected (e.g., comparisons), which\u001B[39;00m\n\u001B[0;32m    660\u001B[0m \u001B[38;5;66;03m# means we're done.\u001B[39;00m\n\u001B[0;32m    661\u001B[0m \u001B[38;5;66;03m# We're also done if the result was None (for method 'at') or\u001B[39;00m\n\u001B[0;32m    662\u001B[0m \u001B[38;5;66;03m# NotImplemented, which can happen if other inputs/outputs override\u001B[39;00m\n\u001B[0;32m    663\u001B[0m \u001B[38;5;66;03m# __array_ufunc__; hopefully, they can then deal with us.\u001B[39;00m\n\u001B[0;32m    664\u001B[0m \u001B[38;5;28;01mif\u001B[39;00m unit \u001B[38;5;129;01mis\u001B[39;00m \u001B[38;5;28;01mNone\u001B[39;00m \u001B[38;5;129;01mor\u001B[39;00m result \u001B[38;5;129;01mis\u001B[39;00m \u001B[38;5;28;01mNone\u001B[39;00m \u001B[38;5;129;01mor\u001B[39;00m result \u001B[38;5;129;01mis\u001B[39;00m \u001B[38;5;28mNotImplemented\u001B[39m:\n",
      "File \u001B[1;32m~\\AppData\\Local\\Programs\\Python\\Python313\\Lib\\site-packages\\astropy\\utils\\masked\\core.py:848\u001B[0m, in \u001B[0;36mMaskedNDArray.__array_ufunc__\u001B[1;34m(self, ufunc, method, *inputs, **kwargs)\u001B[0m\n\u001B[0;32m    844\u001B[0m     kwargs[\u001B[38;5;124m\"\u001B[39m\u001B[38;5;124mwhere\u001B[39m\u001B[38;5;124m\"\u001B[39m] \u001B[38;5;241m=\u001B[39m where_unmasked\n\u001B[0;32m    846\u001B[0m \u001B[38;5;66;03m# First calculate the unmasked result. This will also verify kwargs.\u001B[39;00m\n\u001B[0;32m    847\u001B[0m \u001B[38;5;66;03m# It will raise if the arguments do not know how to deal with each other.\u001B[39;00m\n\u001B[1;32m--> 848\u001B[0m result \u001B[38;5;241m=\u001B[39m \u001B[38;5;28;43mgetattr\u001B[39;49m\u001B[43m(\u001B[49m\u001B[43mufunc\u001B[49m\u001B[43m,\u001B[49m\u001B[43m \u001B[49m\u001B[43mmethod\u001B[49m\u001B[43m)\u001B[49m\u001B[43m(\u001B[49m\u001B[38;5;241;43m*\u001B[39;49m\u001B[43munmasked\u001B[49m\u001B[43m,\u001B[49m\u001B[43m \u001B[49m\u001B[38;5;241;43m*\u001B[39;49m\u001B[38;5;241;43m*\u001B[39;49m\u001B[43mkwargs\u001B[49m\u001B[43m)\u001B[49m\n\u001B[0;32m    850\u001B[0m \u001B[38;5;28;01mif\u001B[39;00m ufunc\u001B[38;5;241m.\u001B[39msignature:\n\u001B[0;32m    851\u001B[0m     \u001B[38;5;66;03m# We're dealing with a gufunc. For now, only deal with\u001B[39;00m\n\u001B[0;32m    852\u001B[0m     \u001B[38;5;66;03m# np.matmul and gufuncs for which the mask of any output always\u001B[39;00m\n\u001B[0;32m    853\u001B[0m     \u001B[38;5;66;03m# depends on all core dimension values of all inputs.\u001B[39;00m\n\u001B[0;32m    854\u001B[0m     \u001B[38;5;66;03m# TODO: in principle, it should be possible to generate the mask\u001B[39;00m\n\u001B[0;32m    855\u001B[0m     \u001B[38;5;66;03m# purely based on the signature.\u001B[39;00m\n\u001B[0;32m    856\u001B[0m     \u001B[38;5;28;01mif\u001B[39;00m ufunc \u001B[38;5;129;01mis\u001B[39;00m np\u001B[38;5;241m.\u001B[39mmatmul:\n\u001B[0;32m    857\u001B[0m         \u001B[38;5;66;03m# np.matmul is tricky and its signature cannot be parsed by\u001B[39;00m\n\u001B[0;32m    858\u001B[0m         \u001B[38;5;66;03m# _parse_gufunc_signature.  But we can calculate the mask\u001B[39;00m\n\u001B[0;32m    859\u001B[0m         \u001B[38;5;66;03m# with matmul by using that nan will propagate correctly.\u001B[39;00m\n\u001B[0;32m    860\u001B[0m         \u001B[38;5;66;03m# We use float16 to minimize the memory requirements.\u001B[39;00m\n",
      "\u001B[1;31mValueError\u001B[0m: operands could not be broadcast together with shapes (19429,11,11) (19429,) "
     ]
    }
   ],
   "execution_count": 12
  }
 ],
 "metadata": {
  "kernelspec": {
   "display_name": "Python 3 (ipykernel)",
   "language": "python",
   "name": "python3"
  },
  "language_info": {
   "codemirror_mode": {
    "name": "ipython",
    "version": 3
   },
   "file_extension": ".py",
   "mimetype": "text/x-python",
   "name": "python",
   "nbconvert_exporter": "python",
   "pygments_lexer": "ipython3",
   "version": "3.13.1"
  }
 },
 "nbformat": 4,
 "nbformat_minor": 5
}
