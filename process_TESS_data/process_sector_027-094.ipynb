{
 "cells": [
  {
   "metadata": {},
   "cell_type": "markdown",
   "source": "# Processing TESS sectors >= 27 data for TOI4504",
   "id": "ec624ddd743875ea"
  },
  {
   "cell_type": "code",
   "id": "initial_id",
   "metadata": {
    "collapsed": true,
    "ExecuteTime": {
     "end_time": "2025-08-12T17:09:28.408764Z",
     "start_time": "2025-08-12T17:09:25.746847Z"
    }
   },
   "source": [
    "import sys\n",
    "sys.path.append('../src/curvesimulator/')\n",
    "from cs_flux_data import *\n",
    "# from cs_flux_data import Transit\n",
    "%matplotlib inline\n",
    "path = '../data/TOI-4504/'\n",
    "\n",
    "C_TRANSITS = [2458401.41, 2458483.21, 2458565.09, 2458647.33, 2459065.24, 2459148.48, 2459231.11, 2459313.25, 2459976.05, 2460059.62, 2460142.60]\n",
    "# spoc_sectors = [27, 28, 29, 30, 31, 32, 33, 34, 35, 36, 37, 38, 61, 62, 63, 64, 65, 67, 68, 69, 87, 88, 89, 90, 94]\n",
    "spoc_sectors = [28, 31, 34, 37, 61, 64, 67, 88, 89, 94]\n"
   ],
   "outputs": [],
   "execution_count": 1
  },
  {
   "metadata": {},
   "cell_type": "code",
   "source": [
    "spoc_dfs = []\n",
    "for sector in spoc_sectors:\n",
    "    full_path = path + f\"downloads/{sector}_SPOC_120.csv\"\n",
    "    df = csv2df(full_path)\n",
    "    df = tesstime2bjd(df)\n",
    "    spoc_dfs.append(df)\n",
    "    plot_this(df.time, [df.flux], [\"flux\"], title=f\"Original data, {sector=}\")"
   ],
   "id": "bb8b331953dc40f8",
   "outputs": [],
   "execution_count": null
  },
  {
   "metadata": {},
   "cell_type": "code",
   "source": [
    "for df, sector in zip(spoc_dfs, spoc_sectors):\n",
    "    median = median_flux(df)\n",
    "    df = scale_flux(df, 1/median)\n",
    "    plot_this(df.time, [df.flux], [\"flux\"], title=f\"Normalized to median=1, {sector=}\")"
   ],
   "id": "e25af94825e41ea3",
   "outputs": [],
   "execution_count": null
  },
  {
   "metadata": {},
   "cell_type": "code",
   "source": [
    "for df, sector in zip(spoc_dfs, spoc_sectors):\n",
    "    full_path = path + f\"{sector}/{sector}_SPOC_120_p.csv\"\n",
    "    df2csv(df, full_path)"
   ],
   "id": "9fe266fa96b9c269",
   "outputs": [],
   "execution_count": null
  },
  {
   "metadata": {
    "ExecuteTime": {
     "end_time": "2025-08-12T17:09:32.730518Z",
     "start_time": "2025-08-12T17:09:32.713921Z"
    }
   },
   "cell_type": "code",
   "source": [
    "sector = 28\n",
    "transit28 = Transit(28, \"cT8\", [C_TRANSITS[4]-0.3], [C_TRANSITS[4]+0.3], path + f\"downloads/{sector}_SPOC_120.csv\", path + f\"{sector}_SPOC_120.csv\")"
   ],
   "id": "725e5e4e5cbd793a",
   "outputs": [],
   "execution_count": 2
  }
 ],
 "metadata": {
  "kernelspec": {
   "display_name": "Python 3",
   "language": "python",
   "name": "python3"
  },
  "language_info": {
   "codemirror_mode": {
    "name": "ipython",
    "version": 2
   },
   "file_extension": ".py",
   "mimetype": "text/x-python",
   "name": "python",
   "nbconvert_exporter": "python",
   "pygments_lexer": "ipython2",
   "version": "2.7.6"
  }
 },
 "nbformat": 4,
 "nbformat_minor": 5
}
