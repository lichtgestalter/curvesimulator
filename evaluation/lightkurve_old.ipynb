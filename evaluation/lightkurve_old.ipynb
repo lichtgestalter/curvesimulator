{
 "cells": [
  {
   "metadata": {},
   "cell_type": "markdown",
   "source": "## Flattening and visualizing old fits-file downloads of unknown source.",
   "id": "abbd1394bc19cacc"
  },
  {
   "cell_type": "code",
   "id": "5d4e34dcc0daee59",
   "metadata": {
    "ExecuteTime": {
     "end_time": "2025-03-30T17:01:44.132684Z",
     "start_time": "2025-03-30T17:01:41.597905Z"
    }
   },
   "source": [
    "from lightkurve import TessLightCurve\n",
    "import numpy as np\n",
    "\n",
    "%matplotlib inline"
   ],
   "outputs": [],
   "execution_count": 1
  },
  {
   "cell_type": "code",
   "id": "a29295045e09269b",
   "metadata": {},
   "source": [
    "lc = TessLightCurve.read('C:/Users/ulisc/.lightkurve/cache/mastDownload/HLSP/hlsp_tess-spoc_tess_phot_0000000349972412-s0069_tess_v1_tp/hlsp_tess-spoc_tess_phot_0000000349972412-s0069_tess_v1_lc.fits')\n",
    "lc.plot()  # Visualize PDCSAP_FLUX"
   ],
   "outputs": [],
   "execution_count": null
  },
  {
   "cell_type": "code",
   "id": "cd7e5734a1ceb9ec",
   "metadata": {},
   "source": [
    "lc = TessLightCurve.read('../research/star_systems/TOI-4504/lightkurve/28/28.fits')\n",
    "lc.plot()"
   ],
   "outputs": [],
   "execution_count": null
  },
  {
   "metadata": {},
   "cell_type": "code",
   "source": [
    "flat_lc = lc.flatten()\n",
    "flat_lc.plot()"
   ],
   "id": "bc7d7717332a0cf4",
   "outputs": [],
   "execution_count": null
  },
  {
   "cell_type": "code",
   "id": "c77998f60cc30fbb",
   "metadata": {},
   "source": [
    "sectors = [\"27\", \"28\", \"29\", \"30\", \"31\", \"32\", \"33\", \"34\", \"35\", \"36\", \"37\", \"38\", \"61\", \"62\", \"63\", \"64\", \"65\", \"67\", \"68\", \"69\"]\n",
    "sectors = [\"28\", \"31\", \"34\", \"37\", \"64\", \"67\"]  # sectors with transits\n",
    "for sector in sectors:\n",
    "    print(sector)\n",
    "    file = f\"../research/star_systems/TOI-4504/lightkurve/{sector}/{sector}.fits\"\n",
    "    lc = TessLightCurve.read(file)\n",
    "    lc.plot()"
   ],
   "outputs": [],
   "execution_count": null
  },
  {
   "cell_type": "code",
   "id": "2bc16f61-231f-4da3-af23-69ea6e2e3a85",
   "metadata": {},
   "source": [
    "sectors = [\"27\"]\n",
    "for sector in sectors:\n",
    "    # print(sector)\n",
    "    file = f\"../research/star_systems/TOI-4504/lightkurve/{sector}/{sector}.fits\"\n",
    "    lc = TessLightCurve.read(file)\n",
    "    lc.plot()"
   ],
   "outputs": [],
   "execution_count": null
  },
  {
   "metadata": {},
   "cell_type": "code",
   "outputs": [],
   "execution_count": null,
   "source": [
    "lc88 = TessLightCurve.read('TIC349972412_sector_10_88.fits')\n",
    "# lc = TessLightCurve.read('TIC349972412_sector_0_31.fits')\n",
    "lc88.flux = np.mean(lc88.flux, axis=(1, 2))  # Average the flux values across the additional dimensions\n",
    "lc88 = lc88.remove_outliers()\n",
    "lc88 = lc88.flatten()\n",
    "lc88.plot()"
   ],
   "id": "584ee33fb58d955a"
  }
 ],
 "metadata": {
  "kernelspec": {
   "display_name": "Python 3 (ipykernel)",
   "language": "python",
   "name": "python3"
  },
  "language_info": {
   "codemirror_mode": {
    "name": "ipython",
    "version": 3
   },
   "file_extension": ".py",
   "mimetype": "text/x-python",
   "name": "python",
   "nbconvert_exporter": "python",
   "pygments_lexer": "ipython3",
   "version": "3.13.1"
  }
 },
 "nbformat": 4,
 "nbformat_minor": 5
}
