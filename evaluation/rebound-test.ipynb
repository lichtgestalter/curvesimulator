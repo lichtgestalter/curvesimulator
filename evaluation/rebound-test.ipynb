{
 "cells": [
  {
   "cell_type": "code",
   "id": "a97b002d0f61899e",
   "metadata": {
    "ExecuteTime": {
     "end_time": "2025-04-06T20:24:44.655847Z",
     "start_time": "2025-04-06T20:24:44.485078Z"
    }
   },
   "source": [
    "import rebound\n",
    "sim = rebound.Simulation()"
   ],
   "outputs": [],
   "execution_count": 1
  },
  {
   "metadata": {
    "collapsed": true,
    "ExecuteTime": {
     "end_time": "2025-04-06T20:24:44.663037Z",
     "start_time": "2025-04-06T20:24:44.660074Z"
    }
   },
   "cell_type": "code",
   "source": "sim.add(m=1)",
   "id": "initial_id",
   "outputs": [],
   "execution_count": 2
  },
  {
   "metadata": {
    "ExecuteTime": {
     "end_time": "2025-04-06T20:25:29.143323Z",
     "start_time": "2025-04-06T20:25:29.140500Z"
    }
   },
   "cell_type": "code",
   "source": "sim.add(m=1e-3, x=1, vy=1)",
   "id": "13cc01e385cee227",
   "outputs": [],
   "execution_count": 3
  },
  {
   "metadata": {
    "ExecuteTime": {
     "end_time": "2025-04-06T20:25:42.478991Z",
     "start_time": "2025-04-06T20:25:42.476486Z"
    }
   },
   "cell_type": "code",
   "source": "sim.status()",
   "id": "98d825511e080ae1",
   "outputs": [
    {
     "name": "stdout",
     "output_type": "stream",
     "text": [
      "---------------------------------\n",
      "REBOUND version:     \t4.4.8\n",
      "REBOUND built on:    \tApr  6 2025 11:48:20\n",
      "Number of particles: \t2\n",
      "Selected integrator: \tias15\n",
      "Simulation time:     \t0.0000000000000000e+00\n",
      "Current timestep:    \t0.001000\n",
      "---------------------------------\n",
      "<rebound.particle.Particle object at 0x20a43cd5bd0, m=1.0 x=0.0 y=0.0 z=0.0 vx=0.0 vy=0.0 vz=0.0>\n",
      "<rebound.particle.Particle object at 0x20a43cd5950, m=0.001 x=1.0 y=0.0 z=0.0 vx=0.0 vy=1.0 vz=0.0>\n",
      "---------------------------------\n",
      "The following fields have non-default values:\n",
      "N:\n",
      "< 0\n",
      "---\n",
      "> 2\n",
      "rand_seed:\n",
      "< 501884\n",
      "---\n",
      "> 677884\n",
      "particles:\n",
      "> (256 bytes, values not printed)\n",
      "\n"
     ]
    }
   ],
   "execution_count": 4
  },
  {
   "metadata": {
    "ExecuteTime": {
     "end_time": "2025-04-06T20:50:47.776865Z",
     "start_time": "2025-04-06T20:50:28.589385Z"
    }
   },
   "cell_type": "code",
   "source": "sim.integrate(100000)",
   "id": "80702ecf15ba024e",
   "outputs": [],
   "execution_count": 18
  },
  {
   "metadata": {
    "ExecuteTime": {
     "end_time": "2025-04-06T20:50:55.897295Z",
     "start_time": "2025-04-06T20:50:55.894123Z"
    }
   },
   "cell_type": "code",
   "source": "sim.status()",
   "id": "517b8588d4a883d1",
   "outputs": [
    {
     "name": "stdout",
     "output_type": "stream",
     "text": [
      "---------------------------------\n",
      "REBOUND version:     \t4.4.8\n",
      "REBOUND built on:    \tApr  6 2025 11:48:20\n",
      "Number of particles: \t2\n",
      "Selected integrator: \tias15\n",
      "Simulation time:     \t1.0000000000000000e+05\n",
      "Current timestep:    \t-0.174419\n",
      "---------------------------------\n",
      "<rebound.particle.Particle object at 0x20a440cf0d0, m=1.0 x=0.00040794639802473694 y=-0.000910371608968131 z=0.0 vx=0.0009125659079176847 vy=0.0004099286571891986 vz=0.0>\n",
      "<rebound.particle.Particle object at 0x20a440cd550, m=0.001 x=-0.40794636730517037 y=0.9103716040914178 z=0.0 vx=-0.9125659079177222 vy=-0.40992865718919247 vz=0.0>\n",
      "---------------------------------\n",
      "The following fields have non-default values:\n",
      "t:\n",
      "< 0.000000e+00\n",
      "---\n",
      "> 1.000000e+05\n",
      "dt:\n",
      "< 1.000000e-03\n",
      "---\n",
      "> -1.744191e-01\n",
      "N:\n",
      "< 0\n",
      "---\n",
      "> 2\n",
      "walltime:\n",
      "< 0.000000e+00\n",
      "---\n",
      "> 4.027600e+01\n",
      "walltime_last_steps:\n",
      "< 0.000000e+00\n",
      "---\n",
      "> 3.610369e-06\n",
      "steps_done:\n",
      "< 0\n",
      "---\n",
      "> 10874709\n",
      "dt_last_done:\n",
      "< 0.000000e+00\n",
      "---\n",
      "> -1.561058e-01\n",
      "rand_seed:\n",
      "< 919884\n",
      "---\n",
      "> 677884\n",
      "particles:\n",
      "> (256 bytes, values not printed)\n",
      "ri_ias15.at:\n",
      "> (48 bytes, values not printed)\n",
      "ri_ias15.x0:\n",
      "> (48 bytes, values not printed)\n",
      "ri_ias15.v0:\n",
      "> (48 bytes, values not printed)\n",
      "ri_ias15.a0:\n",
      "> (48 bytes, values not printed)\n",
      "ri_ias15.csx:\n",
      "> (48 bytes, values not printed)\n",
      "ri_ias15.csv:\n",
      "> (48 bytes, values not printed)\n",
      "ri_ias15.csa0:\n",
      "> (48 bytes, values not printed)\n",
      "ri_ias15.g:\n",
      "> (336 bytes, values not printed)\n",
      "ri_ias15.b:\n",
      "> (336 bytes, values not printed)\n",
      "ri_ias15.csb:\n",
      "> (336 bytes, values not printed)\n",
      "ri_ias15.e:\n",
      "> (336 bytes, values not printed)\n",
      "ri_ias15.br:\n",
      "> (336 bytes, values not printed)\n",
      "ri_ias15.er:\n",
      "> (336 bytes, values not printed)\n",
      "\n"
     ]
    }
   ],
   "execution_count": 19
  },
  {
   "metadata": {
    "ExecuteTime": {
     "end_time": "2025-04-06T20:48:58.022903Z",
     "start_time": "2025-04-06T20:48:58.014844Z"
    }
   },
   "cell_type": "code",
   "source": "sim.calculate_com().xyz",
   "id": "5aa2e29566b907f9",
   "outputs": [
    {
     "ename": "AttributeError",
     "evalue": "'Simulation' object has no attribute 'calculate_com'",
     "output_type": "error",
     "traceback": [
      "\u001B[1;31m---------------------------------------------------------------------------\u001B[0m",
      "\u001B[1;31mAttributeError\u001B[0m                            Traceback (most recent call last)",
      "Cell \u001B[1;32mIn[15], line 1\u001B[0m\n\u001B[1;32m----> 1\u001B[0m \u001B[43msim\u001B[49m\u001B[38;5;241;43m.\u001B[39;49m\u001B[43mcalculate_com\u001B[49m()\u001B[38;5;241m.\u001B[39mxyz\n",
      "\u001B[1;31mAttributeError\u001B[0m: 'Simulation' object has no attribute 'calculate_com'"
     ]
    }
   ],
   "execution_count": 15
  },
  {
   "metadata": {
    "ExecuteTime": {
     "end_time": "2025-04-06T20:49:50.889889Z",
     "start_time": "2025-04-06T20:49:50.887605Z"
    }
   },
   "cell_type": "code",
   "source": "sim.move_to_com()",
   "id": "4d7598975257e746",
   "outputs": [],
   "execution_count": 16
  }
 ],
 "metadata": {
  "kernelspec": {
   "display_name": "Python 3",
   "language": "python",
   "name": "python3"
  },
  "language_info": {
   "codemirror_mode": {
    "name": "ipython",
    "version": 2
   },
   "file_extension": ".py",
   "mimetype": "text/x-python",
   "name": "python",
   "nbconvert_exporter": "python",
   "pygments_lexer": "ipython2",
   "version": "2.7.6"
  }
 },
 "nbformat": 4,
 "nbformat_minor": 5
}
