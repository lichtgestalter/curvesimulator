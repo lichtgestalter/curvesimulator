{
 "cells": [
  {
   "cell_type": "code",
   "id": "a97b002d0f61899e",
   "metadata": {
    "ExecuteTime": {
     "end_time": "2025-04-10T12:53:06.491509Z",
     "start_time": "2025-04-10T12:53:06.413454Z"
    }
   },
   "source": [
    "import rebound\n",
    "import math\n",
    "# Ich kann eine Funktion heartbeat (oder so aehnlich) definieren, die automatisch nach jedem Iterationsschritt ausgefuehrt wird\n",
    "\n",
    "g = 6.67430e-11             # [m**3/kg/s**2] <float> gravitational constant +/- 0.00015\n",
    "au = 1.495978707e11          # [m]   <float> astronomical unit\n",
    "r_sun = 6.96342e8            # [m]   <float> solar radius\n",
    "m_sun = 1.98847e30           # [kg]  <float> solar mass +/- 0.00007\n",
    "l_sun = 3.83e26              # [W]   <float> solar luminosity\n",
    "r_jup = 7.1492e7             # [m]   <float> Jupiter radius\n",
    "m_jup = 1.8981246e27         # [kg]  <float> Jupiter mass\n",
    "r_earth = 6.378135e6         # [m]   <float> Earth radius R⊕\n",
    "m_earth = 5.9720e24          # [kg]  <float> Earth mass M⊕\n",
    "\n",
    "hour = 60 * 60\n",
    "day = 24 * hour\n",
    "year = 365.25 * day"
   ],
   "outputs": [],
   "execution_count": 1
  },
  {
   "metadata": {
    "ExecuteTime": {
     "end_time": "2025-04-10T12:53:07.261287Z",
     "start_time": "2025-04-10T12:53:07.256862Z"
    }
   },
   "cell_type": "code",
   "source": [
    "sim = rebound.Simulation()\n",
    "sim.G = g  # gravitational constant\n",
    "sim.dt = hour"
   ],
   "id": "ae5954cd6a515cad",
   "outputs": [],
   "execution_count": 2
  },
  {
   "metadata": {
    "collapsed": true,
    "ExecuteTime": {
     "end_time": "2025-04-10T12:53:09.036116Z",
     "start_time": "2025-04-10T12:53:09.030116Z"
    }
   },
   "cell_type": "code",
   "source": [
    "name = \"TOI-4504\"\n",
    "mass = 0.885 * m_sun\n",
    "radius = 0.92 * r_sun\n",
    "sim.add(hash=name, m=mass, r=radius)\n",
    "\n",
    "name = \"TOI-4504c\"\n",
    "mass = 10.4 * m_earth\n",
    "radius = 2.691 * r_earth\n",
    "e = 0.0\n",
    "i = 87.4 / 180 * math.pi\n",
    "P = 2.42614 * day\n",
    "longitude_of_ascending_node = 0 / 180 * math.pi\n",
    "argument_of_periapsis = 90 / 180 * math.pi\n",
    "sim.add(hash=name, m=mass, r=radius, P=P, inc=i, e=e, Omega=longitude_of_ascending_node, omega=argument_of_periapsis)\n",
    "\n",
    "name = \"TOI-4504c\"\n",
    "mass = 3.7672 * m_jup\n",
    "radius = 0.9897 * r_jup\n",
    "e = 0.0320\n",
    "i = 89.69 / 180 * math.pi\n",
    "P = 82.5438 * day  # valid for epoch BJD = 2458400\n",
    "longitude_of_ascending_node = 0  / 180 * math.pi\n",
    "argument_of_periapsis = 270.9 / 180 * math.pi\n",
    "ma = 173.1 / 180 * math.pi\n",
    "sim.add(hash=name, m=mass, r=radius, P=P, inc=i, e=e, Omega=longitude_of_ascending_node, omega=argument_of_periapsis, M=ma)\n",
    "\n",
    "name = \"TOI-4504d\"\n",
    "mass = 1.4166 * m_jup\n",
    "radius = 0.7156 * r_jup  # assuming TOI-4504d has the same density as TOI-4504c\n",
    "e = 0.0445\n",
    "i = 84.74 / 180 * math.pi\n",
    "P = 40.5634 * day  # valid for epoch BJD = 2458400\n",
    "longitude_of_ascending_node = 0 / 180 * math.pi  # Ω unknown\n",
    "argument_of_periapsis = 93.5 / 180 * math.pi\n",
    "ma = 280.6 / 180 * math.pi\n",
    "sim.add(hash=name, m=mass, r=radius, P=P, inc=i, e=e, Omega=longitude_of_ascending_node, omega=argument_of_periapsis, M=ma)\n",
    "\n",
    "\n",
    "sim.move_to_com()  # move origin to center of mass before integrating -> better numerical stability\n",
    "t = 0\n",
    "TOI4504b = sim.particles[1]\n",
    "TOI4504c = sim.particles[2]\n",
    "TOI4504d = sim.particles[3]"
   ],
   "id": "initial_id",
   "outputs": [],
   "execution_count": 3
  },
  {
   "metadata": {},
   "cell_type": "code",
   "source": [
    "for orbit in sim.orbits():\n",
    "    print(orbit)"
   ],
   "id": "13cc01e385cee227",
   "outputs": [],
   "execution_count": null
  },
  {
   "metadata": {},
   "cell_type": "code",
   "source": "sim.status(showAllFields=False)",
   "id": "98d825511e080ae1",
   "outputs": [],
   "execution_count": null
  },
  {
   "metadata": {},
   "cell_type": "code",
   "source": "print(sim.particles[1].inc/math.pi*180)",
   "id": "5aa2e29566b907f9",
   "outputs": [],
   "execution_count": null
  },
  {
   "metadata": {
    "ExecuteTime": {
     "end_time": "2025-04-10T12:59:50.588633Z",
     "start_time": "2025-04-10T12:59:50.489386Z"
    }
   },
   "cell_type": "code",
   "source": [
    "t += 3 * year\n",
    "sim.integrate(t)\n",
    "print(f\"Inc: b={TOI4504b.inc / math.pi * 180:.2f} c={TOI4504c.inc / math.pi * 180:.2f} d={TOI4504d.inc / math.pi * 180:.2f}\")"
   ],
   "id": "80702ecf15ba024e",
   "outputs": [
    {
     "name": "stdout",
     "output_type": "stream",
     "text": [
      "Inc: b=88.62 c=87.96 d=90.64\n"
     ]
    }
   ],
   "execution_count": 229
  },
  {
   "metadata": {
    "ExecuteTime": {
     "end_time": "2025-04-10T12:53:26.936827Z",
     "start_time": "2025-04-10T12:53:26.910966Z"
    }
   },
   "cell_type": "code",
   "source": [
    "# sim.start_server(port=1234)  # browser\n",
    "sim.widget(size=(750,750))  # notebook"
   ],
   "id": "b38e676bde1d64d2",
   "outputs": [
    {
     "data": {
      "text/plain": [
       "<IPython.lib.display.IFrame at 0x23b18fef920>"
      ],
      "text/html": [
       "\n",
       "        <iframe\n",
       "            width=\"750\"\n",
       "            height=\"750\"\n",
       "            src=\"http://localhost:1234\"\n",
       "            frameborder=\"0\"\n",
       "            allowfullscreen\n",
       "            \n",
       "        ></iframe>\n",
       "        "
      ]
     },
     "metadata": {},
     "output_type": "display_data"
    }
   ],
   "execution_count": 4
  },
  {
   "metadata": {},
   "cell_type": "code",
   "source": "sim.dt",
   "id": "610c5f90dcc5065c",
   "outputs": [],
   "execution_count": null
  },
  {
   "metadata": {},
   "cell_type": "code",
   "source": "",
   "id": "279d4d07ec4b1ca6",
   "outputs": [],
   "execution_count": null
  }
 ],
 "metadata": {
  "kernelspec": {
   "display_name": "Python 3",
   "language": "python",
   "name": "python3"
  },
  "language_info": {
   "codemirror_mode": {
    "name": "ipython",
    "version": 2
   },
   "file_extension": ".py",
   "mimetype": "text/x-python",
   "name": "python",
   "nbconvert_exporter": "python",
   "pygments_lexer": "ipython2",
   "version": "2.7.6"
  }
 },
 "nbformat": 4,
 "nbformat_minor": 5
}
