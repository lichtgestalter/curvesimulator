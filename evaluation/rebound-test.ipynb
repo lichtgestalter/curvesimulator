{
 "cells": [
  {
   "cell_type": "code",
   "id": "a97b002d0f61899e",
   "metadata": {
    "ExecuteTime": {
     "end_time": "2025-04-22T08:33:22.306910Z",
     "start_time": "2025-04-22T08:33:22.181413Z"
    }
   },
   "source": [
    "import rebound\n",
    "import math\n",
    "import time\n",
    "\n",
    "# Ich kann eine Funktion heartbeat (oder so aehnlich) definieren, die automatisch nach jedem Iterationsschritt ausgefuehrt wird\n",
    "\n",
    "g = 6.67430e-11             # [m**3/kg/s**2] <float> gravitational constant +/- 0.00015\n",
    "au = 1.495978707e11          # [m]   <float> astronomical unit\n",
    "r_sun = 6.96342e8            # [m]   <float> solar radius\n",
    "m_sun = 1.98847e30           # [kg]  <float> solar mass +/- 0.00007\n",
    "l_sun = 3.83e26              # [W]   <float> solar luminosity\n",
    "r_jup = 7.1492e7             # [m]   <float> Jupiter radius\n",
    "m_jup = 1.8981246e27         # [kg]  <float> Jupiter mass\n",
    "r_earth = 6.378135e6         # [m]   <float> Earth radius R⊕\n",
    "m_earth = 5.9720e24          # [kg]  <float> Earth mass M⊕\n",
    "\n",
    "hour = 60 * 60\n",
    "day = 24 * hour\n",
    "year = 365.25 * day"
   ],
   "outputs": [],
   "execution_count": 1
  },
  {
   "metadata": {
    "ExecuteTime": {
     "end_time": "2025-04-10T16:24:30.785597Z",
     "start_time": "2025-04-10T16:24:30.783019Z"
    }
   },
   "cell_type": "code",
   "source": [
    "sim = rebound.Simulation()\n",
    "sim.G = g  # gravitational constant\n",
    "# sim.dt = hour"
   ],
   "id": "ae5954cd6a515cad",
   "outputs": [],
   "execution_count": 2
  },
  {
   "metadata": {
    "collapsed": true,
    "ExecuteTime": {
     "end_time": "2025-04-10T16:24:30.865716Z",
     "start_time": "2025-04-10T16:24:30.861331Z"
    }
   },
   "cell_type": "code",
   "source": [
    "name = \"TOI-4504\"\n",
    "mass = 0.885 * m_sun\n",
    "radius = 0.92 * r_sun\n",
    "sim.add(hash=name, m=mass, r=radius)\n",
    "\n",
    "name = \"TOI-4504c\"\n",
    "mass = 10.4 * m_earth\n",
    "radius = 2.691 * r_earth\n",
    "e = 0.0\n",
    "i = 87.4 / 180 * math.pi\n",
    "P = 2.42614 * day\n",
    "longitude_of_ascending_node = 0 / 180 * math.pi\n",
    "argument_of_periapsis = 90 / 180 * math.pi\n",
    "sim.add(hash=name, m=mass, r=radius, P=P, inc=i, e=e, Omega=longitude_of_ascending_node, omega=argument_of_periapsis)\n",
    "\n",
    "name = \"TOI-4504c\"\n",
    "mass = 3.7672 * m_jup\n",
    "radius = 0.9897 * r_jup\n",
    "e = 0.0320\n",
    "i = 89.69 / 180 * math.pi\n",
    "P = 82.5438 * day  # valid for epoch BJD = 2458400\n",
    "longitude_of_ascending_node = 0  / 180 * math.pi\n",
    "argument_of_periapsis = 270.9 / 180 * math.pi\n",
    "ma = 173.1 / 180 * math.pi\n",
    "sim.add(hash=name, m=mass, r=radius, P=P, inc=i, e=e, Omega=longitude_of_ascending_node, omega=argument_of_periapsis, M=ma)\n",
    "\n",
    "name = \"TOI-4504d\"\n",
    "mass = 1.4166 * m_jup\n",
    "radius = 0.7156 * r_jup  # assuming TOI-4504d has the same density as TOI-4504c\n",
    "e = 0.0445\n",
    "i = 84.74 / 180 * math.pi\n",
    "P = 40.5634 * day  # valid for epoch BJD = 2458400\n",
    "longitude_of_ascending_node = 0 / 180 * math.pi  # Ω unknown\n",
    "argument_of_periapsis = 93.5 / 180 * math.pi\n",
    "ma = 280.6 / 180 * math.pi\n",
    "sim.add(hash=name, m=mass, r=radius, P=P, inc=i, e=e, Omega=longitude_of_ascending_node, omega=argument_of_periapsis, M=ma)\n",
    "\n",
    "\n",
    "sim.move_to_com()  # move origin to center of mass before integrating -> better numerical stability\n",
    "t = 0\n",
    "TOI4504b = sim.particles[1]\n",
    "TOI4504c = sim.particles[2]\n",
    "TOI4504d = sim.particles[3]"
   ],
   "id": "initial_id",
   "outputs": [],
   "execution_count": 3
  },
  {
   "metadata": {
    "ExecuteTime": {
     "end_time": "2025-04-10T16:24:30.871917Z",
     "start_time": "2025-04-10T16:24:30.869308Z"
    }
   },
   "cell_type": "code",
   "source": [
    "for orbit in sim.orbits():\n",
    "    print(orbit)"
   ],
   "id": "13cc01e385cee227",
   "outputs": [
    {
     "name": "stdout",
     "output_type": "stream",
     "text": [
      "<rebound.Orbit instance, a=5075290940.036573 e=1.6483103446032773e-16 inc=1.5254177662430441 Omega=0.0 omega=4.709916062637188 f=3.144065571337295>\n",
      "<rebound.Orbit instance, a=53361376404.38059 e=0.0320000000000006 inc=1.565385806113714 Omega=0.0 omega=4.728096943652636 f=3.0285595407142374>\n",
      "<rebound.Orbit instance, a=33246587462.42604 e=0.044500000000000005 inc=1.4789920081399948 Omega=0.0 omega=1.6318828506146996 f=4.809123535023749>\n"
     ]
    }
   ],
   "execution_count": 4
  },
  {
   "metadata": {
    "ExecuteTime": {
     "end_time": "2025-04-10T16:24:30.954924Z",
     "start_time": "2025-04-10T16:24:30.952290Z"
    }
   },
   "cell_type": "code",
   "source": "sim.status(showAllFields=False)",
   "id": "98d825511e080ae1",
   "outputs": [
    {
     "name": "stdout",
     "output_type": "stream",
     "text": [
      "---------------------------------\n",
      "REBOUND version:     \t4.4.8\n",
      "REBOUND built on:    \tApr  6 2025 11:48:20\n",
      "Number of particles: \t4\n",
      "Selected integrator: \tias15\n",
      "Simulation time:     \t0.0000000000000000e+00\n",
      "Current timestep:    \t0.001000\n",
      "---------------------------------\n",
      "<rebound.particle.Particle object at 0x24dc7ea90d0, m=1.75979595e+30 x=-71225355.92424245 y=-1931177.5798455882 z=-229780103.21722955 vx=206.994656865213 vy=-8.285379970559248 vz=-107.49542171721878>\n",
      "<rebound.particle.Particle object at 0x24dc7ea9450, m=6.210880000000001e+25 x=-71225355.92424214 y=228299185.08554232 z=4840286179.004759 vx=-151921.72524435728 vy=-8.285379970558825 vz=-107.49542171720947>\n",
      "<rebound.particle.Particle object at 0x24dc7ea90d0, m=7.15061499312e+27 x=5278781722.348262 y=294554585.1225321 z=54566371691.866135 vx=-45106.89846287148 vy=16.57157991085989 vz=4486.649725049302>\n",
      "<rebound.particle.Particle object at 0x24dc7ea9450, m=2.68888330836e+27 x=32578572901.467384 y=475309827.93987995 z=5162870059.421884 vx=-12008.932567672144 vy=5378.662465073474 vz=58423.650781688804>\n",
      "---------------------------------\n"
     ]
    }
   ],
   "execution_count": 5
  },
  {
   "metadata": {
    "ExecuteTime": {
     "end_time": "2025-04-10T16:24:31.046578Z",
     "start_time": "2025-04-10T16:24:31.043604Z"
    }
   },
   "cell_type": "code",
   "source": "print(sim.particles[1].inc/math.pi*180)",
   "id": "5aa2e29566b907f9",
   "outputs": [
    {
     "name": "stdout",
     "output_type": "stream",
     "text": [
      "87.40000000000002\n"
     ]
    }
   ],
   "execution_count": 6
  },
  {
   "metadata": {
    "ExecuteTime": {
     "end_time": "2025-04-10T16:24:31.129276Z",
     "start_time": "2025-04-10T16:24:31.105714Z"
    }
   },
   "cell_type": "code",
   "source": [
    "# sim.start_server(port=1234)  # browser\n",
    "sim.widget(size=(750,750))  # notebook"
   ],
   "id": "b38e676bde1d64d2",
   "outputs": [
    {
     "data": {
      "text/plain": [
       "<IPython.lib.display.IFrame at 0x24dc7d87230>"
      ],
      "text/html": [
       "\n",
       "        <iframe\n",
       "            width=\"750\"\n",
       "            height=\"750\"\n",
       "            src=\"http://localhost:1234\"\n",
       "            frameborder=\"0\"\n",
       "            allowfullscreen\n",
       "            \n",
       "        ></iframe>\n",
       "        "
      ]
     },
     "metadata": {},
     "output_type": "display_data"
    }
   ],
   "execution_count": 7
  },
  {
   "metadata": {
    "ExecuteTime": {
     "end_time": "2025-04-10T16:26:18.724478Z",
     "start_time": "2025-04-10T16:24:31.136331Z"
    }
   },
   "cell_type": "code",
   "source": [
    "for i in range(10000):\n",
    "    t = i * year / 100\n",
    "    sim.integrate(t)\n",
    "    time.sleep(0.01)\n",
    "    # print(f\"t[year]={t / year:.1f} Inc: b={TOI4504b.inc / math.pi * 180:.1f} c={TOI4504c.inc / math.pi * 180:.1f} d={TOI4504d.inc / math.pi * 180:.1f}\")"
   ],
   "id": "80702ecf15ba024e",
   "outputs": [],
   "execution_count": 8
  },
  {
   "metadata": {
    "ExecuteTime": {
     "end_time": "2025-04-10T16:26:18.786946Z",
     "start_time": "2025-04-10T16:26:18.783869Z"
    }
   },
   "cell_type": "code",
   "source": "sim.dt",
   "id": "610c5f90dcc5065c",
   "outputs": [
    {
     "data": {
      "text/plain": [
       "5834.051354860692"
      ]
     },
     "execution_count": 9,
     "metadata": {},
     "output_type": "execute_result"
    }
   ],
   "execution_count": 9
  },
  {
   "metadata": {
    "ExecuteTime": {
     "end_time": "2025-04-10T16:26:18.806564Z",
     "start_time": "2025-04-10T16:26:18.804885Z"
    }
   },
   "cell_type": "code",
   "source": "",
   "id": "279d4d07ec4b1ca6",
   "outputs": [],
   "execution_count": null
  }
 ],
 "metadata": {
  "kernelspec": {
   "display_name": "Python 3",
   "language": "python",
   "name": "python3"
  },
  "language_info": {
   "codemirror_mode": {
    "name": "ipython",
    "version": 2
   },
   "file_extension": ".py",
   "mimetype": "text/x-python",
   "name": "python",
   "nbconvert_exporter": "python",
   "pygments_lexer": "ipython2",
   "version": "2.7.6"
  }
 },
 "nbformat": 4,
 "nbformat_minor": 5
}
